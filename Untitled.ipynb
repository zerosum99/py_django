{
 "cells": [
  {
   "cell_type": "code",
   "execution_count": null,
   "metadata": {},
   "outputs": [],
   "source": [
    "# %load manage.py\n",
    "#!/usr/bin/env python\n",
    "\"\"\"Django's command-line utility for administrative tasks.\"\"\"\n",
    "import os\n",
    "import sys\n",
    "\n",
    "\n",
    "def main():\n",
    "    os.environ.setdefault('DJANGO_SETTINGS_MODULE', 'py_django.settings')\n",
    "    try:\n",
    "        from django.core.management import execute_from_command_line\n",
    "    except ImportError as exc:\n",
    "        raise ImportError(\n",
    "            \"Couldn't import Django. Are you sure it's installed and \"\n",
    "            \"available on your PYTHONPATH environment variable? Did you \"\n",
    "            \"forget to activate a virtual environment?\"\n",
    "        ) from exc\n",
    "    execute_from_command_line(sys.argv)\n",
    "\n",
    "\n",
    "if __name__ == '__main__':\n",
    "    main()\n"
   ]
  },
  {
   "cell_type": "code",
   "execution_count": null,
   "metadata": {},
   "outputs": [
    {
     "name": "stdout",
     "output_type": "stream",
     "text": [
      "Watching for file changes with StatReloader\n",
      "Performing system checks...\n",
      "\n",
      "System check identified no issues (0 silenced).\n",
      "\u001b[31m\n",
      "You have 17 unapplied migration(s). Your project may not work properly until you apply the migrations for app(s): admin, auth, contenttypes, sessions.\u001b[0m\n",
      "\u001b[31mRun 'python manage.py migrate' to apply them.\n",
      "\u001b[0m\n",
      "October 21, 2019 - 02:16:51\n",
      "Django version 2.2.6, using settings 'py_django.settings'\n",
      "Starting development server at http://127.0.0.1:8000/\n",
      "Quit the server with CONTROL-C.\n",
      "[21/Oct/2019 02:16:57] \u001b[m\"GET / HTTP/1.1\" 200 16348\u001b[0m\n",
      "[21/Oct/2019 02:16:57] \u001b[m\"GET /static/admin/css/fonts.css HTTP/1.1\" 200 423\u001b[0m\n",
      "[21/Oct/2019 02:16:57] \u001b[m\"GET /static/admin/fonts/Roboto-Regular-webfont.woff HTTP/1.1\" 200 85876\u001b[0m\n",
      "[21/Oct/2019 02:16:57] \u001b[m\"GET /static/admin/fonts/Roboto-Light-webfont.woff HTTP/1.1\" 200 85692\u001b[0m\n",
      "[21/Oct/2019 02:16:57] \u001b[m\"GET /static/admin/fonts/Roboto-Bold-webfont.woff HTTP/1.1\" 200 86184\u001b[0m\n",
      "Not Found: /favicon.ico\n",
      "[21/Oct/2019 02:16:57] \u001b[33m\"GET /favicon.ico HTTP/1.1\" 404 1975\u001b[0m\n",
      "Not Found: /apple-touch-icon-precomposed.png\n",
      "[21/Oct/2019 02:16:57] \u001b[33m\"GET /apple-touch-icon-precomposed.png HTTP/1.1\" 404 2038\u001b[0m\n",
      "Not Found: /apple-touch-icon.png\n",
      "[21/Oct/2019 02:16:57] \u001b[33m\"GET /apple-touch-icon.png HTTP/1.1\" 404 2002\u001b[0m\n"
     ]
    }
   ],
   "source": [
    "!python  manage.py runserver"
   ]
  },
  {
   "cell_type": "code",
   "execution_count": null,
   "metadata": {},
   "outputs": [],
   "source": []
  }
 ],
 "metadata": {
  "kernelspec": {
   "display_name": "Python 3",
   "language": "python",
   "name": "python3"
  },
  "language_info": {
   "codemirror_mode": {
    "name": "ipython",
    "version": 3
   },
   "file_extension": ".py",
   "mimetype": "text/x-python",
   "name": "python",
   "nbconvert_exporter": "python",
   "pygments_lexer": "ipython3",
   "version": "3.7.4"
  }
 },
 "nbformat": 4,
 "nbformat_minor": 2
}
